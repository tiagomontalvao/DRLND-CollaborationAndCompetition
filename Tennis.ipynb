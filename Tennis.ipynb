{
 "cells": [
  {
   "cell_type": "markdown",
   "metadata": {},
   "source": [
    "# Collaboration and Competition\n",
    "\n",
    "---\n",
    "\n",
    "In this notebook, you will learn how to use the Unity ML-Agents environment for the third project of the [Deep Reinforcement Learning Nanodegree](https://www.udacity.com/course/deep-reinforcement-learning-nanodegree--nd893) program.\n",
    "\n",
    "### 1. Start the Environment\n",
    "\n",
    "We begin by importing the necessary packages.  If the code cell below returns an error, please revisit the project instructions to double-check that you have installed [Unity ML-Agents](https://github.com/Unity-Technologies/ml-agents/blob/master/docs/Installation.md) and [NumPy](http://www.numpy.org/)."
   ]
  },
  {
   "cell_type": "code",
   "execution_count": 1,
   "metadata": {},
   "outputs": [],
   "source": [
    "from collections import deque\n",
    "from torchsummary import summary\n",
    "from unityagents import UnityEnvironment\n",
    "import matplotlib.pyplot as plt\n",
    "import numpy as np\n",
    "import pandas as pd\n",
    "import torch\n",
    "\n",
    "# MADDPG agent to be trained\n",
    "from maddpg_agent import MADDPGAgent as Agent"
   ]
  },
  {
   "cell_type": "markdown",
   "metadata": {},
   "source": [
    "Next, we will start the environment!  **_Before running the code cell below_**, change the `file_name` parameter to match the location of the Unity environment that you downloaded.\n",
    "\n",
    "- **Mac**: `\"path/to/Tennis.app\"`\n",
    "- **Windows** (x86): `\"path/to/Tennis_Windows_x86/Tennis.exe\"`\n",
    "- **Windows** (x86_64): `\"path/to/Tennis_Windows_x86_64/Tennis.exe\"`\n",
    "- **Linux** (x86): `\"path/to/Tennis_Linux/Tennis.x86\"`\n",
    "- **Linux** (x86_64): `\"path/to/Tennis_Linux/Tennis.x86_64\"`\n",
    "- **Linux** (x86, headless): `\"path/to/Tennis_Linux_NoVis/Tennis.x86\"`\n",
    "- **Linux** (x86_64, headless): `\"path/to/Tennis_Linux_NoVis/Tennis.x86_64\"`\n",
    "\n",
    "For instance, if you are using a Mac, then you downloaded `Tennis.app`.  If this file is in the same folder as the notebook, then the line below should appear as follows:\n",
    "```\n",
    "env = UnityEnvironment(file_name=\"Tennis.app\")\n",
    "```"
   ]
  },
  {
   "cell_type": "code",
   "execution_count": 2,
   "metadata": {},
   "outputs": [
    {
     "name": "stderr",
     "output_type": "stream",
     "text": [
      "INFO:unityagents:\n",
      "'Academy' started successfully!\n",
      "Unity Academy name: Academy\n",
      "        Number of Brains: 1\n",
      "        Number of External Brains : 1\n",
      "        Lesson number : 0\n",
      "        Reset Parameters :\n",
      "\t\t\n",
      "Unity brain name: TennisBrain\n",
      "        Number of Visual Observations (per agent): 0\n",
      "        Vector Observation space type: continuous\n",
      "        Vector Observation space size (per agent): 8\n",
      "        Number of stacked Vector Observation: 3\n",
      "        Vector Action space type: continuous\n",
      "        Vector Action space size (per agent): 2\n",
      "        Vector Action descriptions: , \n"
     ]
    }
   ],
   "source": [
    "env = UnityEnvironment(file_name=\"Tennis_Linux/Tennis.x86_64\")"
   ]
  },
  {
   "cell_type": "markdown",
   "metadata": {},
   "source": [
    "Environments contain **_brains_** which are responsible for deciding the actions of their associated agents. Here we check for the first brain available, and set it as the default brain we will be controlling from Python."
   ]
  },
  {
   "cell_type": "code",
   "execution_count": 3,
   "metadata": {},
   "outputs": [
    {
     "name": "stdout",
     "output_type": "stream",
     "text": [
      "['TennisBrain']\n"
     ]
    }
   ],
   "source": [
    "# get the default brain\n",
    "print(env.brain_names)\n",
    "brain_name = env.brain_names[0]\n",
    "brain = env.brains[brain_name]"
   ]
  },
  {
   "cell_type": "markdown",
   "metadata": {},
   "source": [
    "### 2. Examine the State and Action Spaces\n",
    "\n",
    "In this environment, two agents control rackets to bounce a ball over a net. If an agent hits the ball over the net, it receives a reward of +0.1.  If an agent lets a ball hit the ground or hits the ball out of bounds, it receives a reward of -0.01.  Thus, the goal of each agent is to keep the ball in play.\n",
    "\n",
    "The observation space consists of 8 variables corresponding to the position and velocity of the ball and racket. Two continuous actions are available, corresponding to movement toward (or away from) the net, and jumping. \n",
    "\n",
    "Run the code cell below to print some information about the environment."
   ]
  },
  {
   "cell_type": "code",
   "execution_count": 4,
   "metadata": {},
   "outputs": [
    {
     "name": "stdout",
     "output_type": "stream",
     "text": [
      "Number of agents: 2\n",
      "Size of each action: 2\n",
      "There are 2 agents. Each observes a state with length: 24\n",
      "The state for the first agent looks like: [ 0.          0.          0.          0.          0.          0.\n",
      "  0.          0.          0.          0.          0.          0.\n",
      "  0.          0.          0.          0.         -6.65278625 -1.5\n",
      " -0.          0.          6.83172083  6.         -0.          0.        ]\n"
     ]
    }
   ],
   "source": [
    "# reset the environment\n",
    "env_info = env.reset(train_mode=True)[brain_name]\n",
    "\n",
    "# number of agents \n",
    "num_agents = len(env_info.agents)\n",
    "print('Number of agents:', num_agents)\n",
    "\n",
    "# size of each action\n",
    "action_size = brain.vector_action_space_size\n",
    "print('Size of each action:', action_size)\n",
    "\n",
    "# examine the state space \n",
    "states = env_info.vector_observations\n",
    "state_size = states.shape[1]\n",
    "print('There are {} agents. Each observes a state with length: {}'.format(states.shape[0], state_size))\n",
    "print('The state for the first agent looks like:', states[0])"
   ]
  },
  {
   "cell_type": "markdown",
   "metadata": {},
   "source": [
    "### 3. Take Random Actions in the Environment\n",
    "\n",
    "The next cell shows how to use the Python API to control the agent and receive feedback from the environment.\n",
    "\n",
    "Once this cell is executed, you will watch the agent's performance, if it selects an action (uniformly) at random with each time step.  A window should pop up that allows you to observe the agent, as it moves through the environment.  "
   ]
  },
  {
   "cell_type": "code",
   "execution_count": 5,
   "metadata": {},
   "outputs": [],
   "source": [
    "for i in range(1, 6):                                      # play game for 5 episodes\n",
    "    env_info = env.reset(train_mode=False)[brain_name]     # reset the environment    \n",
    "    states = env_info.vector_observations                  # get the current state (for each agent)\n",
    "    scores = np.zeros(num_agents)                          # initialize the score (for each agent)\n",
    "    while True:\n",
    "        actions = np.random.randn(num_agents, action_size) # select an action (for each agent)\n",
    "        actions = np.clip(actions, -1, 1)                  # all actions between -1 and 1\n",
    "        env_info = env.step(actions)[brain_name]           # send all actions to tne environment\n",
    "        next_states = env_info.vector_observations         # get next state (for each agent)\n",
    "        rewards = env_info.rewards                         # get reward (for each agent)\n",
    "        dones = env_info.local_done                        # see if episode finished\n",
    "        scores += env_info.rewards                         # update the score (for each agent)\n",
    "        states = next_states                               # roll over states to next time step\n",
    "        if np.any(dones):                                  # exit loop if episode finished\n",
    "            break\n",
    "    print(scores)\n",
    "    print('Score (max over agents) from episode {}: {}'.format(i, np.max(scores)))"
   ]
  },
  {
   "cell_type": "markdown",
   "metadata": {},
   "source": [
    "### 4. Training the MADDPG Agent\n",
    "\n",
    "When training the environment, set `train_mode=True`, so that the line for resetting the environment looks like the following:\n",
    "```python\n",
    "env_info = env.reset(train_mode=True)[brain_name]\n",
    "```"
   ]
  },
  {
   "cell_type": "code",
   "execution_count": 6,
   "metadata": {},
   "outputs": [],
   "source": [
    "def run_episode(agent, train_mode=False, if_train_then_step=True):\n",
    "    \"\"\"Runs a single episode of the environment.\n",
    "\n",
    "    Params\n",
    "    ======\n",
    "        agent (Agent): agent object to be trained\n",
    "        train_mode (bool): train_mode to be passed to the environment\n",
    "        if_train_then_step (bool): indicates if agent should be trained when train_mode=True\n",
    "    \"\"\"  \n",
    "    env_info = env.reset(train_mode=train_mode)[brain_name]# reset the environment    \n",
    "    states = env_info.vector_observations                  # get the current state (for each agent)\n",
    "    scores = np.zeros(num_agents)                          # initialize the score (for each agent)\n",
    "    i = 0\n",
    "    while True:\n",
    "        i += 1\n",
    "        actions = agent.act(states, noise=train_mode)      # select an action (for each agent)\n",
    "        # print(actions)\n",
    "        actions = np.clip(actions, -1, 1)                  # all actions between -1 and 1\n",
    "        env_info = env.step(actions)[brain_name]           # send all actions to the environment\n",
    "        next_states = env_info.vector_observations         # get next state (for each agent)\n",
    "        rewards = env_info.rewards                         # get reward (for each agent)\n",
    "        dones = env_info.local_done                        # see if episode finished\n",
    "        scores += env_info.rewards                         # update the score (for each agent)\n",
    "        if train_mode and if_train_then_step:\n",
    "            agent.step(states, actions, rewards, next_states, dones)\n",
    "        states = next_states                               # roll over states to next time step\n",
    "        if np.any(dones):                                  # exit loop if episode finished\n",
    "            break\n",
    "    max_score = np.max(scores)\n",
    "    return max_score, i"
   ]
  },
  {
   "cell_type": "code",
   "execution_count": 7,
   "metadata": {},
   "outputs": [],
   "source": [
    "def maddpg(agent, max_episodes=3000, checkpoint_each=500, print_each=100,\n",
    "         solve_window_size=100, solve_score=0.5):\n",
    "    \"\"\"Trains a MADDPG agent.\n",
    "\n",
    "    Params\n",
    "    ======\n",
    "        agent (Agent): agent object to be trained\n",
    "        max_episodes (int): max number of episodes\n",
    "        checkpoint_each (int): number of episodes to skip before checkpointing model \n",
    "        print_each (int): number of episodes to skip before printing current score\n",
    "        solve_window_size (int): number of consecutive episodes to consider the environment solved\n",
    "        solve_score (int): minimum average score to reach after solve_window_size\n",
    "    \"\"\"\n",
    "    idx_episode = 0\n",
    "    scores = []\n",
    "    scores_window = deque(maxlen=solve_window_size)\n",
    "    try:\n",
    "        for i in range(1, max_episodes+1):\n",
    "            idx_episode += 1\n",
    "            state = env.reset()\n",
    "            agent.reset()\n",
    "\n",
    "            score, episode_len = run_episode(agent, train_mode=True)\n",
    "            scores.append(score)\n",
    "            scores_window.append(score)\n",
    "\n",
    "            avg_score = np.mean(scores_window)\n",
    "            end = '\\n' if (i%print_each == 0 or avg_score >= solve_score) else ''\n",
    "            print(\"\\rEpisode #{:3d}  |  \"\n",
    "                  \"Score: {:+6.2f}  |  \"\n",
    "                  \"Avg. Score: {:+6.2f}  |  \"\n",
    "                  \"Episode length: {}\".format(i, score, avg_score, episode_len),\n",
    "                  end=end\n",
    "            )\n",
    "            if i%checkpoint_each == 0:\n",
    "                agent.save_model(prefix_name='checkpoint')\n",
    "                print('Checkpoint saved!')\n",
    "            if avg_score >= solve_score and i >= solve_window_size:\n",
    "                print('Environment solved in {} episodes!'.format(i))\n",
    "                break\n",
    "    except KeyboardInterrupt:\n",
    "        print('Interrupted in episode {}'.format(idx_episode))\n",
    "    # save model after all episodes\n",
    "    agent.save_model()\n",
    "    print('Model saved!')\n",
    "    \n",
    "    if np.mean(scores_window) < solve_score:\n",
    "        print('Agent could not solve the environment in {} episodes'.format(idx_episode))\n",
    "    \n",
    "    return scores"
   ]
  },
  {
   "cell_type": "code",
   "execution_count": 8,
   "metadata": {
    "scrolled": false
   },
   "outputs": [
    {
     "name": "stdout",
     "output_type": "stream",
     "text": [
      "Agent actor network architecture:\n",
      "----------------------------------------------------------------\n",
      "        Layer (type)               Output Shape         Param #\n",
      "================================================================\n",
      "            Linear-1                  [-1, 400]          10,000\n",
      "       BatchNorm1d-2                  [-1, 400]             800\n",
      "              ReLU-3                  [-1, 400]               0\n",
      "            Linear-4                  [-1, 300]         120,300\n",
      "       BatchNorm1d-5                  [-1, 300]             600\n",
      "              ReLU-6                  [-1, 300]               0\n",
      "            Linear-7                    [-1, 2]             602\n",
      "================================================================\n",
      "Total params: 132,302\n",
      "Trainable params: 132,302\n",
      "Non-trainable params: 0\n",
      "----------------------------------------------------------------\n",
      "Input size (MB): 0.00\n",
      "Forward/backward pass size (MB): 0.02\n",
      "Params size (MB): 0.50\n",
      "Estimated Total Size (MB): 0.52\n",
      "----------------------------------------------------------------\n"
     ]
    }
   ],
   "source": [
    "agent = Agent(n_agents=num_agents, state_size=state_size, action_size=action_size, seed=0)\n",
    "print('Agent actor network architecture:')\n",
    "summary(agent.maddpg_agent[0].actor, (state_size, ))"
   ]
  },
  {
   "cell_type": "code",
   "execution_count": 9,
   "metadata": {},
   "outputs": [
    {
     "name": "stdout",
     "output_type": "stream",
     "text": [
      "Agent critic network architecture:\n",
      "----------------------------------------------------------------\n",
      "        Layer (type)               Output Shape         Param #\n",
      "================================================================\n",
      "            Linear-1                  [-1, 400]          19,600\n",
      "       BatchNorm1d-2                  [-1, 400]             800\n",
      "              ReLU-3                  [-1, 400]               0\n",
      "            Linear-4                  [-1, 300]         121,500\n",
      "       BatchNorm1d-5                  [-1, 300]             600\n",
      "              ReLU-6                  [-1, 300]               0\n",
      "            Linear-7                    [-1, 1]             301\n",
      "================================================================\n",
      "Total params: 142,801\n",
      "Trainable params: 142,801\n",
      "Non-trainable params: 0\n",
      "----------------------------------------------------------------\n",
      "Input size (MB): 0.00\n",
      "Forward/backward pass size (MB): 0.02\n",
      "Params size (MB): 0.54\n",
      "Estimated Total Size (MB): 0.56\n",
      "----------------------------------------------------------------\n"
     ]
    }
   ],
   "source": [
    "print('Agent critic network architecture:')\n",
    "summary(agent.maddpg_agent[0].critic, [(num_agents*state_size,), (num_agents*action_size,)])"
   ]
  },
  {
   "cell_type": "code",
   "execution_count": 10,
   "metadata": {},
   "outputs": [],
   "source": [
    "all_scores = []\n",
    "max_episodes = 3000\n",
    "print_each = 50\n",
    "solve_score = 0.5\n",
    "solve_window_size = 100"
   ]
  },
  {
   "cell_type": "code",
   "execution_count": 11,
   "metadata": {},
   "outputs": [
    {
     "name": "stdout",
     "output_type": "stream",
     "text": [
      "Episode # 50  |  Score:  +0.00  |  Avg. Score:  +0.02  |  Episode length: 14\n",
      "Episode #100  |  Score:  +0.00  |  Avg. Score:  +0.03  |  Episode length: 14\n",
      "Episode #150  |  Score:  +0.00  |  Avg. Score:  +0.03  |  Episode length: 15\n",
      "Episode #200  |  Score:  +0.00  |  Avg. Score:  +0.02  |  Episode length: 15\n",
      "Episode #250  |  Score:  +0.00  |  Avg. Score:  +0.01  |  Episode length: 14\n",
      "Episode #300  |  Score:  +0.00  |  Avg. Score:  +0.01  |  Episode length: 14\n",
      "Episode #350  |  Score:  +0.00  |  Avg. Score:  +0.03  |  Episode length: 14\n",
      "Episode #400  |  Score:  +0.10  |  Avg. Score:  +0.04  |  Episode length: 32\n",
      "Episode #450  |  Score:  +0.00  |  Avg. Score:  +0.03  |  Episode length: 14\n",
      "Episode #500  |  Score:  +0.10  |  Avg. Score:  +0.03  |  Episode length: 30\n",
      "Checkpoint saved!\n",
      "Episode #550  |  Score:  +0.10  |  Avg. Score:  +0.03  |  Episode length: 31\n",
      "Episode #600  |  Score:  +0.10  |  Avg. Score:  +0.04  |  Episode length: 31\n",
      "Episode #650  |  Score:  +0.00  |  Avg. Score:  +0.05  |  Episode length: 14\n",
      "Episode #700  |  Score:  +0.20  |  Avg. Score:  +0.05  |  Episode length: 72\n",
      "Episode #750  |  Score:  +0.00  |  Avg. Score:  +0.07  |  Episode length: 23\n",
      "Episode #800  |  Score:  +0.10  |  Avg. Score:  +0.09  |  Episode length: 30\n",
      "Episode #850  |  Score:  +0.10  |  Avg. Score:  +0.12  |  Episode length: 526\n",
      "Episode #900  |  Score:  +0.09  |  Avg. Score:  +0.15  |  Episode length: 302\n",
      "Episode #950  |  Score:  +0.50  |  Avg. Score:  +0.20  |  Episode length: 185\n",
      "Episode #1000  |  Score:  +0.10  |  Avg. Score:  +0.28  |  Episode length: 321\n",
      "Checkpoint saved!\n",
      "Episode #1050  |  Score:  +0.10  |  Avg. Score:  +0.27  |  Episode length: 328\n",
      "Episode #1100  |  Score:  +0.10  |  Avg. Score:  +0.25  |  Episode length: 424\n",
      "Episode #1150  |  Score:  +0.10  |  Avg. Score:  +0.29  |  Episode length: 323\n",
      "Episode #1200  |  Score:  +0.09  |  Avg. Score:  +0.30  |  Episode length: 316\n",
      "Episode #1250  |  Score:  +0.20  |  Avg. Score:  +0.40  |  Episode length: 676\n",
      "Episode #1264  |  Score:  +1.80  |  Avg. Score:  +0.51  |  Episode length: 6951\n",
      "Environment solved in 1264 episodes!\n",
      "Model saved!\n",
      "CPU times: user 1h 3min 32s, sys: 45.9 s, total: 1h 4min 18s\n",
      "Wall time: 1h 6min 53s\n"
     ]
    }
   ],
   "source": [
    "%%time\n",
    "scores = maddpg(agent, max_episodes=max_episodes, print_each=print_each,\n",
    "              solve_window_size=solve_window_size, solve_score=solve_score)\n",
    "all_scores += scores"
   ]
  },
  {
   "cell_type": "code",
   "execution_count": 12,
   "metadata": {},
   "outputs": [
    {
     "data": {
      "image/png": "[encoded data removed]",
      "text/plain": [
       "<Figure size 1080x360 with 1 Axes>"
      ]
     },
     "metadata": {
      "needs_background": "light"
     },
     "output_type": "display_data"
    }
   ],
   "source": [
    "fig, ax = plt.subplots(figsize=(15, 5))\n",
    "ax.plot(all_scores, label='Score')\n",
    "pd.Series(all_scores).rolling(100, 1).mean().plot(ax=ax, label='MA(100)')\n",
    "ax.axhline(solve_score, ls='--', lw=1, c='red')\n",
    "ax.set_xlabel('Episode #')\n",
    "ax.set_yticks(list(set(list(plt.yticks()[0]) + [solve_score])))\n",
    "ax.legend(loc='upper left');"
   ]
  },
  {
   "cell_type": "markdown",
   "metadata": {},
   "source": [
    "### 5. Loading and executing MADDPG Agent\n",
    "\n",
    "As the model weights are saved, we can load them into a new agent."
   ]
  },
  {
   "cell_type": "code",
   "execution_count": 13,
   "metadata": {},
   "outputs": [],
   "source": [
    "trained_agent = Agent(n_agents=num_agents, state_size=state_size, action_size=action_size, seed=0)\n",
    "trained_agent.load_model()"
   ]
  },
  {
   "cell_type": "code",
   "execution_count": 14,
   "metadata": {},
   "outputs": [
    {
     "data": {
      "text/plain": [
       "(2.600000038743019, 1001)"
      ]
     },
     "execution_count": 14,
     "metadata": {},
     "output_type": "execute_result"
    }
   ],
   "source": [
    "run_episode(trained_agent)"
   ]
  },
  {
   "cell_type": "markdown",
   "metadata": {},
   "source": [
    "When finished, you can close the environment."
   ]
  },
  {
   "cell_type": "code",
   "execution_count": 15,
   "metadata": {},
   "outputs": [],
   "source": [
    "env.close()"
   ]
  },
  {
   "cell_type": "markdown",
   "metadata": {},
   "source": [
    "### 4. It's Your Turn!\n",
    "\n",
    "Now it's your turn to train your own agent to solve the environment!  When training the environment, set `train_mode=True`, so that the line for resetting the environment looks like the following:\n",
    "```python\n",
    "env_info = env.reset(train_mode=True)[brain_name]\n",
    "```"
   ]
  }
 ],
 "metadata": {
  "kernelspec": {
   "display_name": "Python 3",
   "language": "python",
   "name": "python3"
  },
  "language_info": {
   "codemirror_mode": {
    "name": "ipython",
    "version": 3
   },
   "file_extension": ".py",
   "mimetype": "text/x-python",
   "name": "python",
   "nbconvert_exporter": "python",
   "pygments_lexer": "ipython3",
   "version": "3.6.10"
  }
 },
 "nbformat": 4,
 "nbformat_minor": 2
}
